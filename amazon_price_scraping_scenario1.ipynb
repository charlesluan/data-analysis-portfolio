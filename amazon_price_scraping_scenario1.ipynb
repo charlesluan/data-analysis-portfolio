{
 "cells": [
  {
   "cell_type": "code",
   "execution_count": 2,
   "id": "864b2087",
   "metadata": {},
   "outputs": [],
   "source": [
    "from bs4 import BeautifulSoup\n",
    "import requests\n",
    "import time\n",
    "import datetime\n",
    "import smtplib\n",
    "import pandas as pd"
   ]
  },
  {
   "cell_type": "code",
   "execution_count": 3,
   "id": "d305ddd7",
   "metadata": {},
   "outputs": [
    {
     "name": "stdout",
     "output_type": "stream",
     "text": [
      "\n",
      "            Makita XPH12Z 18V LXT Lithium-Ion Brushless Cordless 1/2\" Hammer Driver-Drill, Tool Only\n",
      "           \n",
      "\n",
      "\n",
      "\n",
      "\n",
      "\n",
      "                        $258.18\n",
      "                       \n",
      "\n",
      "\n",
      "                         $\n",
      "                        \n",
      "\n",
      "                         258\n",
      "                         \n",
      "                          .\n",
      "                         \n",
      "\n",
      "\n",
      "                         18\n",
      "                        \n",
      "\n",
      "\n",
      "\n",
      "\n"
     ]
    }
   ],
   "source": [
    "URL = 'https://www.amazon.ca/Makita-XPH12Z-Lithium-Ion-Brushless-Driver-Drill/dp/B01M4HGFRS/ref=sr_1_1_sspa?crid=3SNJLDC0JTLZ&keywords=makita&qid=1643048998&sprefix=makita%2Caps%2C92&sr=8-1-spons&smid=A15CBTP5BTSNTZ&spLa=ZW5jcnlwdGVkUXVhbGlmaWVyPUEyM1lJRzlNTEVUWVpKJmVuY3J5cHRlZElkPUEwMjk0OTA4MUJISTZVQjlSQlBESyZlbmNyeXB0ZWRBZElkPUEwMjMzNDc4M0xNUFBPTFhHREQwVSZ3aWRnZXROYW1lPXNwX2F0ZiZhY3Rpb249Y2xpY2tSZWRpcmVjdCZkb05vdExvZ0NsaWNrPXRydWU&th=1'\n",
    "\n",
    "headers = {\"User-Agent\": \"Mozilla/5.0 (Windows NT 10.0; Win64; x64) AppleWebKit/537.36 (KHTML, like Gecko) Chrome/78.0.3904.108 Safari/537.36\", \"Accept-Encoding\":\"gzip, deflate\", \"Accept\":\"text/html,application/xhtml+xml,application/xml;q=0.9,*/*;q=0.8\", \"DNT\":\"1\",\"Connection\":\"close\", \"Upgrade-Insecure-Requests\":\"1\"}\n",
    "\n",
    "page = requests.get(URL, headers=headers)\n",
    "\n",
    "soup1 = BeautifulSoup(page.content, \"html.parser\")\n",
    "\n",
    "\n",
    "soup2 = BeautifulSoup(soup1.prettify(),\"html.parser\")\n",
    "\n",
    "\n",
    "title = soup2.find(id='productTitle').get_text()\n",
    "\n",
    "price = soup2.find(id='corePrice_feature_div').get_text()\n",
    "\n",
    "print(title)\n",
    "print(price)\n",
    "\n"
   ]
  },
  {
   "cell_type": "code",
   "execution_count": 35,
   "id": "547374c5",
   "metadata": {},
   "outputs": [
    {
     "name": "stdout",
     "output_type": "stream",
     "text": [
      "258.18\n"
     ]
    }
   ],
   "source": [
    "#Price extracting\n",
    "price1 = price.split('$')[1]\n",
    "price1 = float(price1)\n",
    "print(price1)"
   ]
  },
  {
   "cell_type": "code",
   "execution_count": 5,
   "id": "e68fd732",
   "metadata": {},
   "outputs": [
    {
     "name": "stdout",
     "output_type": "stream",
     "text": [
      "Makita XPH12Z 18V LXT Lithium-Ion Brushless Cordless 1/2\" Hammer Driver-Drill, Tool Only\n"
     ]
    }
   ],
   "source": [
    "title1 = title.strip()\n",
    "print(title1)"
   ]
  },
  {
   "cell_type": "code",
   "execution_count": 6,
   "id": "5a07ab8b",
   "metadata": {},
   "outputs": [
    {
     "data": {
      "text/plain": [
       "float"
      ]
     },
     "execution_count": 6,
     "metadata": {},
     "output_type": "execute_result"
    }
   ],
   "source": [
    "type(price1)"
   ]
  },
  {
   "cell_type": "code",
   "execution_count": 7,
   "id": "27b6ba8b",
   "metadata": {},
   "outputs": [
    {
     "name": "stdout",
     "output_type": "stream",
     "text": [
      "2022-01-24\n"
     ]
    }
   ],
   "source": [
    "today = datetime.date.today()\n",
    "print(today)"
   ]
  },
  {
   "cell_type": "code",
   "execution_count": 37,
   "id": "2cfda44c",
   "metadata": {},
   "outputs": [],
   "source": [
    "#Creating the csv file, only run once in the very beginning\n",
    "import csv\n",
    "header = ['Title','Price','Date'] \n",
    "data = [title1,price1,today] \n",
    "\n",
    "with open('MakitaDriverDailyPrice.csv','w',newline='',encoding='UTF-8') as f:\n",
    "    writer = csv.writer(f)\n",
    "    writer.writerow(header)\n",
    "    writer.writerow(data)"
   ]
  },
  {
   "cell_type": "code",
   "execution_count": 38,
   "id": "bd35485d",
   "metadata": {},
   "outputs": [
    {
     "data": {
      "text/html": [
       "<div>\n",
       "<style scoped>\n",
       "    .dataframe tbody tr th:only-of-type {\n",
       "        vertical-align: middle;\n",
       "    }\n",
       "\n",
       "    .dataframe tbody tr th {\n",
       "        vertical-align: top;\n",
       "    }\n",
       "\n",
       "    .dataframe thead th {\n",
       "        text-align: right;\n",
       "    }\n",
       "</style>\n",
       "<table border=\"1\" class=\"dataframe\">\n",
       "  <thead>\n",
       "    <tr style=\"text-align: right;\">\n",
       "      <th></th>\n",
       "      <th>Title</th>\n",
       "      <th>Price</th>\n",
       "      <th>Date</th>\n",
       "    </tr>\n",
       "  </thead>\n",
       "  <tbody>\n",
       "    <tr>\n",
       "      <th>0</th>\n",
       "      <td>Makita XPH12Z 18V LXT Lithium-Ion Brushless Co...</td>\n",
       "      <td>258.18</td>\n",
       "      <td>2022-01-24</td>\n",
       "    </tr>\n",
       "  </tbody>\n",
       "</table>\n",
       "</div>"
      ],
      "text/plain": [
       "                                               Title   Price        Date\n",
       "0  Makita XPH12Z 18V LXT Lithium-Ion Brushless Co...  258.18  2022-01-24"
      ]
     },
     "execution_count": 38,
     "metadata": {},
     "output_type": "execute_result"
    }
   ],
   "source": [
    "df = pd.read_csv('MakitaDriverDailyPrice.csv')\n",
    "df"
   ]
  },
  {
   "cell_type": "code",
   "execution_count": 40,
   "id": "610a9791",
   "metadata": {},
   "outputs": [
    {
     "data": {
      "text/plain": [
       "'Makita XPH12Z 18V LXT Lithium-Ion Brushless Cordless 1/2\" Hammer Driver-Drill, Tool Only'"
      ]
     },
     "execution_count": 40,
     "metadata": {},
     "output_type": "execute_result"
    }
   ],
   "source": [
    "df.iloc[0]['Title']"
   ]
  },
  {
   "cell_type": "code",
   "execution_count": 44,
   "id": "c0e9edf3",
   "metadata": {},
   "outputs": [],
   "source": [
    "\n",
    "def check_Price(): \n",
    "    \n",
    "    from bs4 import BeautifulSoup\n",
    "    import requests\n",
    "    import time\n",
    "    import datetime\n",
    "\n",
    "    \n",
    "    URL = 'https://www.amazon.ca/Makita-XPH12Z-Lithium-Ion-Brushless-Driver-Drill/dp/B01M4HGFRS/ref=sr_1_1_sspa?crid=3SNJLDC0JTLZ&keywords=makita&qid=1643048998&sprefix=makita%2Caps%2C92&sr=8-1-spons&smid=A15CBTP5BTSNTZ&spLa=ZW5jcnlwdGVkUXVhbGlmaWVyPUEyM1lJRzlNTEVUWVpKJmVuY3J5cHRlZElkPUEwMjk0OTA4MUJISTZVQjlSQlBESyZlbmNyeXB0ZWRBZElkPUEwMjMzNDc4M0xNUFBPTFhHREQwVSZ3aWRnZXROYW1lPXNwX2F0ZiZhY3Rpb249Y2xpY2tSZWRpcmVjdCZkb05vdExvZ0NsaWNrPXRydWU&th=1'\n",
    "    headers = {\"User-Agent\": \"Mozilla/5.0 (Windows NT 10.0; Win64; x64) AppleWebKit/537.36 (KHTML, like Gecko) Chrome/78.0.3904.108 Safari/537.36\", \"Accept-Encoding\":\"gzip, deflate\", \"Accept\":\"text/html,application/xhtml+xml,application/xml;q=0.9,*/*;q=0.8\", \"DNT\":\"1\",\"Connection\":\"close\", \"Upgrade-Insecure-Requests\":\"1\"}\n",
    "    page = requests.get(URL, headers=headers)\n",
    "    soup1 = BeautifulSoup(page.content, \"html.parser\")\n",
    "    soup2 = BeautifulSoup(soup1.prettify(),\"html.parser\")\n",
    "    \n",
    "    title = soup2.find(id='productTitle').get_text()\n",
    "    price = soup2.find(id='corePrice_feature_div').get_text()\n",
    "    \n",
    "    price1 = float(price.split('$')[1])\n",
    "\n",
    "    \n",
    "    title1 = title.strip()\n",
    "    \n",
    "    import datetime\n",
    "    today = datetime.date.today()\n",
    "    \n",
    "    import csv\n",
    "    header = ['Title','Price','Date'] \n",
    "    data = [title1,price1,today] \n",
    "\n",
    "    with open('MakitaDriverDailyPrice.csv','a+',newline='',encoding='UTF-8') as f:\n",
    "        writer = csv.writer(f)\n",
    "        writer.writerow(data)\n",
    "        \n",
    "    return print('Script Successfully Executed')"
   ]
  },
  {
   "cell_type": "code",
   "execution_count": 45,
   "id": "cea40c9e",
   "metadata": {},
   "outputs": [
    {
     "name": "stdout",
     "output_type": "stream",
     "text": [
      "Script Successfully Executed\n"
     ]
    }
   ],
   "source": [
    "check_Price()"
   ]
  },
  {
   "cell_type": "code",
   "execution_count": 46,
   "id": "645864f3",
   "metadata": {},
   "outputs": [
    {
     "data": {
      "text/html": [
       "<div>\n",
       "<style scoped>\n",
       "    .dataframe tbody tr th:only-of-type {\n",
       "        vertical-align: middle;\n",
       "    }\n",
       "\n",
       "    .dataframe tbody tr th {\n",
       "        vertical-align: top;\n",
       "    }\n",
       "\n",
       "    .dataframe thead th {\n",
       "        text-align: right;\n",
       "    }\n",
       "</style>\n",
       "<table border=\"1\" class=\"dataframe\">\n",
       "  <thead>\n",
       "    <tr style=\"text-align: right;\">\n",
       "      <th></th>\n",
       "      <th>Title</th>\n",
       "      <th>Price</th>\n",
       "      <th>Date</th>\n",
       "    </tr>\n",
       "  </thead>\n",
       "  <tbody>\n",
       "    <tr>\n",
       "      <th>0</th>\n",
       "      <td>Makita XPH12Z 18V LXT Lithium-Ion Brushless Co...</td>\n",
       "      <td>258.18</td>\n",
       "      <td>2022-01-24</td>\n",
       "    </tr>\n",
       "    <tr>\n",
       "      <th>1</th>\n",
       "      <td>Makita XPH12Z 18V LXT Lithium-Ion Brushless Co...</td>\n",
       "      <td>258.18</td>\n",
       "      <td>2022-01-24</td>\n",
       "    </tr>\n",
       "    <tr>\n",
       "      <th>2</th>\n",
       "      <td>Makita XPH12Z 18V LXT Lithium-Ion Brushless Co...</td>\n",
       "      <td>258.18</td>\n",
       "      <td>2022-01-24</td>\n",
       "    </tr>\n",
       "  </tbody>\n",
       "</table>\n",
       "</div>"
      ],
      "text/plain": [
       "                                               Title   Price        Date\n",
       "0  Makita XPH12Z 18V LXT Lithium-Ion Brushless Co...  258.18  2022-01-24\n",
       "1  Makita XPH12Z 18V LXT Lithium-Ion Brushless Co...  258.18  2022-01-24\n",
       "2  Makita XPH12Z 18V LXT Lithium-Ion Brushless Co...  258.18  2022-01-24"
      ]
     },
     "execution_count": 46,
     "metadata": {},
     "output_type": "execute_result"
    }
   ],
   "source": [
    "df = pd.read_csv('MakitaDriverDailyPrice.csv')\n",
    "df"
   ]
  },
  {
   "cell_type": "code",
   "execution_count": null,
   "id": "d107430f",
   "metadata": {},
   "outputs": [],
   "source": [
    "#Running this while loop in background\n",
    "#As it runs every 86400 seconds (one day) unless IDE stops the loop \n",
    "\n",
    "while(True):\n",
    "    check_Price()\n",
    "    time.sleep(86400)"
   ]
  }
 ],
 "metadata": {
  "kernelspec": {
   "display_name": "Python 3 (ipykernel)",
   "language": "python",
   "name": "python3"
  },
  "language_info": {
   "codemirror_mode": {
    "name": "ipython",
    "version": 3
   },
   "file_extension": ".py",
   "mimetype": "text/x-python",
   "name": "python",
   "nbconvert_exporter": "python",
   "pygments_lexer": "ipython3",
   "version": "3.9.7"
  }
 },
 "nbformat": 4,
 "nbformat_minor": 5
}
